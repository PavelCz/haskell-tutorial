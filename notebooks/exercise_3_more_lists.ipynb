{
 "cells": [
  {
   "cell_type": "markdown",
   "metadata": {},
   "source": [
    "# Tutorial 3\n",
    "\n",
    "## Review\n",
    "\n",
    "### Destructuring Assignment"
   ]
  },
  {
   "cell_type": "code",
   "execution_count": null,
   "metadata": {},
   "outputs": [],
   "source": [
    "let z = (4,5)\n",
    "let (x,y) = z\n",
    "x\n",
    "y\n",
    "let l = ['a' .. 'c']\n",
    "let [u,_,v] = l\n",
    "u\n",
    "v\n",
    "fst (a,b) = a\n",
    "fst z"
   ]
  },
  {
   "cell_type": "markdown",
   "metadata": {},
   "source": [
    "### List Constructor"
   ]
  },
  {
   "cell_type": "code",
   "execution_count": null,
   "metadata": {},
   "outputs": [],
   "source": [
    "[1,2,3]\n",
    "-- Is syntactic sugar for \n",
    "1 : 2 : 3 : []\n",
    "(:) :: a -> [a] -> [a]\n"
   ]
  },
  {
   "cell_type": "markdown",
   "metadata": {},
   "source": [
    "Constructor `(:)` is right associative:  \n",
    "`a : b : cs` is `a : (b : cs)`\n",
    "\n",
    "Destructuring:"
   ]
  },
  {
   "cell_type": "code",
   "execution_count": null,
   "metadata": {},
   "outputs": [],
   "source": [
    "hd (x:xs) = x\n",
    "tl (x:xs) = xs\n",
    "hd [1..5]\n",
    "tl [1..5]"
   ]
  },
  {
   "cell_type": "markdown",
   "metadata": {},
   "source": [
    "### List index\n",
    "\n",
    "Get the nth element (starting at 0)"
   ]
  },
  {
   "cell_type": "code",
   "execution_count": null,
   "metadata": {},
   "outputs": [],
   "source": [
    "l = [1..5]\n",
    "l !! 0\n",
    "l !! 3\n",
    "l !! 2"
   ]
  },
  {
   "cell_type": "markdown",
   "metadata": {},
   "source": [
    "### Function Composition\n",
    "\n",
    "Maths:  \n",
    "$f \\circ g$\n"
   ]
  },
  {
   "cell_type": "code",
   "execution_count": null,
   "metadata": {},
   "outputs": [],
   "source": [
    "--(.) :: (b -> c) -> (a -> b) -> (a -> c)\n",
    "\n",
    "add2 x = x + 2\n",
    "times2 x = x * 2\n",
    "f2 = times2 . add2\n",
    "f2 4"
   ]
  },
  {
   "cell_type": "markdown",
   "metadata": {},
   "source": [
    "### Exercise 3.1\n",
    "\n",
    "### List recursion"
   ]
  },
  {
   "cell_type": "code",
   "execution_count": null,
   "metadata": {},
   "outputs": [],
   "source": [
    "-- To set from last time\n",
    "toSetOld xs\n",
    "  | null xs = []\n",
    "  | otherwise = if head xs `elem` tail xs\n",
    "    then toSetOld $ tail xs\n",
    "    else [head xs] ++ (toSetOld $ tail xs)"
   ]
  },
  {
   "cell_type": "markdown",
   "metadata": {},
   "source": [
    "Can you rewrite this to be \"prettier\" with the new features?\n",
    "\n",
    "\n",
    "------\n",
    "\n",
    "\n"
   ]
  },
  {
   "cell_type": "code",
   "execution_count": null,
   "metadata": {},
   "outputs": [],
   "source": [
    "toSetNew :: [Integer] -> [Integer]\n",
    "toSetNew [] = []\n",
    "toSetNew (x:xs) = if x `elem` xs\n",
    "  then toSetNew xs\n",
    "  else x:toSetNew xs"
   ]
  },
  {
   "cell_type": "markdown",
   "metadata": {},
   "source": [
    "### Exercise 3.2\n",
    "\n",
    "Helpful functions:  \n",
    "`take`  \n",
    "`drop`"
   ]
  },
  {
   "cell_type": "code",
   "execution_count": null,
   "metadata": {},
   "outputs": [],
   "source": [
    "take 6 \"FPV is cool\"\n",
    "take 6 \"FPV\"\n",
    "drop 3 [1 .. 5]\n",
    "drop 10 [1 .. 5]"
   ]
  },
  {
   "cell_type": "code",
   "execution_count": null,
   "metadata": {},
   "outputs": [],
   "source": []
  }
 ],
 "metadata": {
  "kernelspec": {
   "display_name": "Haskell",
   "language": "haskell",
   "name": "haskell"
  },
  "language_info": {
   "codemirror_mode": "ihaskell",
   "file_extension": ".hs",
   "name": "haskell",
   "pygments_lexer": "Haskell",
   "version": "8.6.5"
  }
 },
 "nbformat": 4,
 "nbformat_minor": 2
}
