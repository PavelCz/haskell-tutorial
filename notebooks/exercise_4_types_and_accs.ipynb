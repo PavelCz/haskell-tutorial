{
 "cells": [
  {
   "cell_type": "markdown",
   "metadata": {},
   "source": [
    "# Tutorial 4\n",
    "\n",
    "## Introduction to Type Classes\n",
    "\n",
    "- Type classes are collections of types that implement some fixed set of functions\n",
    "- Similar to Java Interfaces\n",
    "\n",
    "Example:\n",
    "```\n",
    "class Eq a where\n",
    "    (==) :: a -> a -> Bool\n",
    "```\n",
    "Note: the type of (==) outside the class context is\n",
    "```\n",
    "Eq a => a -> a -> Bool\n",
    "```\n",
    "In general:\n",
    "```\n",
    "class C a where\n",
    "    f1 :: T1\n",
    "    fi :: Ti\n",
    "    fn :: Tn\n",
    "```\n",
    "where Ti may involve the type variable a\n",
    "\n",
    "### Some Built-In Type Classes\n",
    "\n",
    "- Eq a\n",
    "  - Defines (==), (/=), i.e. equality and inequality\n",
    "- Ord a\n",
    "  - Ordered datatypes, e.g. (<=)\n",
    "- Num a\n",
    "  - e.g. Int, Integer, Float\n",
    "  \n",
    "For the exercises on this sheet please write the types for every function.\n",
    "\n",
    "## Exercises With Accumulators"
   ]
  },
  {
   "cell_type": "code",
   "execution_count": null,
   "metadata": {},
   "outputs": [],
   "source": []
  }
 ],
 "metadata": {
  "kernelspec": {
   "display_name": "Haskell",
   "language": "haskell",
   "name": "haskell"
  },
  "language_info": {
   "codemirror_mode": "ihaskell",
   "file_extension": ".hs",
   "name": "haskell",
   "pygments_lexer": "Haskell",
   "version": "8.6.5"
  }
 },
 "nbformat": 4,
 "nbformat_minor": 2
}
