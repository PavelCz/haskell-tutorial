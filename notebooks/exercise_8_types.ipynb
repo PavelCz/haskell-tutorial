{
 "cells": [
  {
   "cell_type": "markdown",
   "metadata": {},
   "source": [
    "# Tutorial 8\n",
    "\n",
    "## Algebraic Data Types\n",
    "\n",
    "`data` keyword defines new types\n",
    "\n",
    "Example:"
   ]
  },
  {
   "cell_type": "code",
   "execution_count": 1,
   "metadata": {},
   "outputs": [
    {
     "data": {
      "text/plain": [
       "Circle 1.0"
      ]
     },
     "metadata": {},
     "output_type": "display_data"
    },
    {
     "data": {
      "text/plain": [
       "Rect 0.9 1.1"
      ]
     },
     "metadata": {},
     "output_type": "display_data"
    },
    {
     "data": {
      "text/plain": [
       "Circle (-2.0)"
      ]
     },
     "metadata": {},
     "output_type": "display_data"
    }
   ],
   "source": [
    "data MyBool = MyFalse | MyTrue\n",
    "    --deriving (Eq, Show)\n",
    "    \n",
    "data Shape = Circle Float | Rect Float Float\n",
    "    deriving (Eq, Show)\n",
    "\n",
    "--Some values of type Shape: \n",
    "Circle 1.0\n",
    "Rect 0.9 1.1\n",
    "Circle (-2.0)"
   ]
  },
  {
   "cell_type": "markdown",
   "metadata": {},
   "source": [
    "Algebraic Data Types consist of named Constructors (e.g. `MyFalse`, `MyTrue`, `Rect Float Float`)\n",
    "\n",
    "Constructors behave like functions but can also occur in patterns.\n",
    "\n",
    "``` Haskell\n",
    "area :: Shape -> Float\n",
    "area (Circle r) = pi * r^2\n",
    "area (Rect w h) = w * h\n",
    "```\n",
    "\n",
    "Make your type an instance of a type class:\n",
    "\n",
    "## Type Classes Continued\n",
    "\n",
    "Example:"
   ]
  },
  {
   "cell_type": "code",
   "execution_count": 2,
   "metadata": {},
   "outputs": [],
   "source": [
    "instance Eq MyBool where\n",
    "    (==) MyTrue MyTrue = True\n",
    "    (==) MyFalse MyFalse = True\n",
    "    (==) _ _ = False"
   ]
  },
  {
   "cell_type": "code",
   "execution_count": 4,
   "metadata": {},
   "outputs": [
    {
     "data": {
      "text/plain": [
       "[Wahr2,Wahr2,Falsch]"
      ]
     },
     "metadata": {},
     "output_type": "display_data"
    }
   ],
   "source": [
    "instance Show MyBool where\n",
    "    show MyTrue = \"Wahr\"\n",
    "    show MyFalse = \"Falsch\"\n",
    "\n",
    "[MyTrue, MyTrue, MyFalse]"
   ]
  },
  {
   "cell_type": "markdown",
   "metadata": {},
   "source": [
    "Implement all required functions after where\n",
    "\n",
    "### Recursive Data Types\n",
    "\n",
    "Data Types can be defined recursively.\n",
    "\n",
    "Furthermore, we can deconstruct them just like our other types in order to get to the values\n",
    "\n",
    "Example:"
   ]
  },
  {
   "cell_type": "code",
   "execution_count": 5,
   "metadata": {},
   "outputs": [
    {
     "data": {
      "text/plain": [
       "5 : 6 : 7 : []"
      ]
     },
     "metadata": {},
     "output_type": "display_data"
    }
   ],
   "source": [
    "data MyList a = Empty | Cons a (MyList a)\n",
    "\n",
    "instance Show a => Show (MyList a) where\n",
    "    show Empty = \"[]\"\n",
    "    show (Cons x xs) = show x ++ \" : \" ++ show xs\n",
    "\n",
    "list = 5 `Cons` (6 `Cons` (7 `Cons` Empty))\n",
    "list"
   ]
  },
  {
   "cell_type": "markdown",
   "metadata": {},
   "source": [
    "## Exercise 8.1\n",
    "\n",
    "- create a datatype for Fraction\n",
    "- with contructor Over\n",
    "- make Fraction an instance of Num, Eq and Show\n",
    "\n",
    "## Exercise 8.2\n",
    "\n",
    "- create data type tree\n",
    "- implement functions for this algebraic data type\n",
    "\n",
    "## Lambda Expressions\n",
    "\n",
    "`(\\x -> body) arg` = body with x replaced by arg"
   ]
  },
  {
   "cell_type": "code",
   "execution_count": null,
   "metadata": {},
   "outputs": [],
   "source": [
    "--type String = [Char]\n",
    "--type coords = (Int, Int)\n",
    "--map Circle [1,2,3]\n",
    "let f = \\x -> x+1\n",
    "-- Equivalent to \n",
    "let g x = x + 1\n",
    "f 2\n",
    "g 2\n",
    "-- Multiple Parameters:\n",
    "let h = \\a b -> a ^ b\n",
    "let i a b = a ^ b\n",
    "h 2 3\n",
    "i 2 3"
   ]
  },
  {
   "cell_type": "markdown",
   "metadata": {},
   "source": [
    "## Partial Application\n",
    "\n",
    "**From lecture:**\n",
    "Any function of two arguments can be seen as a function of the first argument that returns a function of the second argument.\n",
    "\n",
    "Example:"
   ]
  },
  {
   "cell_type": "code",
   "execution_count": null,
   "metadata": {},
   "outputs": [],
   "source": [
    "f x y = x+y\n",
    "f' x = \\y -> x+y\n",
    "\n",
    "--f a b .=. (f' a) b = (\\y -> a + y) b = a + b\n",
    "\n",
    "f 3 4 = 3  +4 \n",
    "\n",
    "(f' 3) 4 = (\\y -> 3+y) 4 = 3 +4\n",
    "\n",
    "f 3 4 == f' 3 4\n",
    "(f' 3) 4 = (\\y -> 3+y) 4"
   ]
  },
  {
   "cell_type": "markdown",
   "metadata": {},
   "source": [
    "Consequently it is possible in haskell to apply any function of $n$ parameters to less than $n$ arguments\n"
   ]
  },
  {
   "cell_type": "code",
   "execution_count": null,
   "metadata": {},
   "outputs": [],
   "source": [
    "-- E.g:\n",
    "f a b = 7*a + 5*b\n",
    "g = f 2\n",
    "g 2\n",
    "\n",
    "map (+2) [1..3]"
   ]
  },
  {
   "cell_type": "markdown",
   "metadata": {},
   "source": [
    "\n",
    "## Currying\n",
    "\n",
    "Defined in the standard library:"
   ]
  },
  {
   "cell_type": "code",
   "execution_count": null,
   "metadata": {},
   "outputs": [],
   "source": [
    "curry :: ((a,b) -> c) -> (a -> b -> c)\n",
    "curry f = \\ x y -> f(x,y)\n",
    "uncurry :: (a -> b -> c) -> ((a,b) -> c)\n",
    "uncurry f = \\(x,y) -> f x y\n",
    "\n",
    "g a b = a + b\n",
    "g 1 2\n",
    "\n",
    "h(a, b) = a + b\n",
    "let i = (1,2)\n",
    "h i"
   ]
  },
  {
   "cell_type": "markdown",
   "metadata": {},
   "source": [
    "``` Haskell\n",
    "curry g .=. h\n",
    "uncurry h .=. g\n",
    "```\n",
    "\n",
    "Tuple form \"(x,y)\" allows multiple valies to be saved in one variable\n",
    "\n",
    "Uncurried form \"x y\" allows partial application\n",
    "\n",
    "\n",
    "## Exercise 8.3\n",
    "\n",
    "`Data.Function`: https://hackage.haskell.org/package/base-4.12.0.0/docs/Data-Function.html"
   ]
  },
  {
   "cell_type": "code",
   "execution_count": null,
   "metadata": {},
   "outputs": [],
   "source": []
  }
 ],
 "metadata": {
  "kernelspec": {
   "display_name": "Haskell",
   "language": "haskell",
   "name": "haskell"
  },
  "language_info": {
   "codemirror_mode": "ihaskell",
   "file_extension": ".hs",
   "name": "haskell",
   "pygments_lexer": "Haskell",
   "version": "8.6.5"
  }
 },
 "nbformat": 4,
 "nbformat_minor": 4
}
