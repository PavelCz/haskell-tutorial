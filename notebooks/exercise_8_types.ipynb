{
 "cells": [
  {
   "cell_type": "markdown",
   "metadata": {},
   "source": [
    "# Tutorial 8\n",
    "\n",
    "## Algebraic Data Types\n",
    "\n",
    "`data` keyword defines new types\n",
    "\n",
    "Example:\n",
    "``` Haskell\n",
    "data Bool = False | True\n",
    "    deriving (Eq, Show)\n",
    "    \n",
    "data Shape = Circle Float | Rect Float Float\n",
    "    deriving (Eq, Show)\n",
    "\n",
    "--Some values of type Shape: \n",
    "Circle 1.0\n",
    "Rect 0.9 1.1\n",
    "Circle (-2.0)\n",
    "```\n",
    "\n",
    "Algebraic Data Types consist of named Constructors (e.g. `False`, `True`, `Rect Float Float`)\n",
    "\n",
    "Constructors behave like functions but can also occur in patterns.\n",
    "\n",
    "``` Haskell\n",
    "area :: Shape -> Float\n",
    "area (Circle r) = pi * r^2\n",
    "area (Rect w h) = w * h\n",
    "```\n",
    "\n",
    "Make your type an instance of a type class:\n",
    "\n",
    "## Type Classes Continued\n",
    "\n",
    "Example:\n",
    "``` Haskell\n",
    "instance Eq Bool where\n",
    "True == True = True\n",
    "False == False = True\n",
    "_ == _ = False\n",
    "```\n",
    "\n",
    "Implement all required functions after where\n",
    "\n",
    "## Exercise 8.1\n",
    "\n",
    "- create a datatype for Fraction\n",
    "- with contructor Over\n",
    "- make Fraction an instance of Num, Eq and Show\n",
    "\n",
    "## Exercise 8.2\n",
    "\n",
    "- create data type tree\n",
    "- implement functions for this algebraic data type\n",
    "\n",
    "## Lambda Expressions\n",
    "\n",
    "`(\\x -> body) arg` = body with x replaced by arg\n"
   ]
  },
  {
   "cell_type": "code",
   "execution_count": 3,
   "metadata": {},
   "outputs": [
    {
     "data": {
      "text/plain": [
       "3"
      ]
     },
     "metadata": {},
     "output_type": "display_data"
    },
    {
     "data": {
      "text/plain": [
       "3"
      ]
     },
     "metadata": {},
     "output_type": "display_data"
    },
    {
     "data": {
      "text/plain": [
       "8"
      ]
     },
     "metadata": {},
     "output_type": "display_data"
    },
    {
     "data": {
      "text/plain": [
       "8"
      ]
     },
     "metadata": {},
     "output_type": "display_data"
    }
   ],
   "source": [
    "let f = \\x -> x+1\n",
    "-- Equivalent to \n",
    "let g x = x + 1\n",
    "f 2\n",
    "g 2\n",
    "-- Multiple Parameters:\n",
    "let h = \\a b -> a ^ b\n",
    "let i a b = a ^ b\n",
    "h 2 3\n",
    "i 2 3"
   ]
  },
  {
   "cell_type": "markdown",
   "metadata": {},
   "source": [
    "## Partial Application\n",
    "\n",
    "**From lecture:**\n",
    "Any function of two arguments can be seen as a function of the first argument that returns a function of the second argument.\n",
    "\n",
    "Example:"
   ]
  },
  {
   "cell_type": "code",
   "execution_count": 4,
   "metadata": {},
   "outputs": [
    {
     "data": {
      "text/html": [
       "<style>/* Styles used for the Hoogle display in the pager */\n",
       ".hoogle-doc {\n",
       "display: block;\n",
       "padding-bottom: 1.3em;\n",
       "padding-left: 0.4em;\n",
       "}\n",
       ".hoogle-code {\n",
       "display: block;\n",
       "font-family: monospace;\n",
       "white-space: pre;\n",
       "}\n",
       ".hoogle-text {\n",
       "display: block;\n",
       "}\n",
       ".hoogle-name {\n",
       "color: green;\n",
       "font-weight: bold;\n",
       "}\n",
       ".hoogle-head {\n",
       "font-weight: bold;\n",
       "}\n",
       ".hoogle-sub {\n",
       "display: block;\n",
       "margin-left: 0.4em;\n",
       "}\n",
       ".hoogle-package {\n",
       "font-weight: bold;\n",
       "font-style: italic;\n",
       "}\n",
       ".hoogle-module {\n",
       "font-weight: bold;\n",
       "}\n",
       ".hoogle-class {\n",
       "font-weight: bold;\n",
       "}\n",
       ".get-type {\n",
       "color: green;\n",
       "font-weight: bold;\n",
       "font-family: monospace;\n",
       "display: block;\n",
       "white-space: pre-wrap;\n",
       "}\n",
       ".show-type {\n",
       "color: green;\n",
       "font-weight: bold;\n",
       "font-family: monospace;\n",
       "margin-left: 1em;\n",
       "}\n",
       ".mono {\n",
       "font-family: monospace;\n",
       "display: block;\n",
       "}\n",
       ".err-msg {\n",
       "color: red;\n",
       "font-style: italic;\n",
       "font-family: monospace;\n",
       "white-space: pre;\n",
       "display: block;\n",
       "}\n",
       "#unshowable {\n",
       "color: red;\n",
       "font-weight: bold;\n",
       "}\n",
       ".err-msg.in.collapse {\n",
       "padding-top: 0.7em;\n",
       "}\n",
       ".highlight-code {\n",
       "white-space: pre;\n",
       "font-family: monospace;\n",
       "}\n",
       ".suggestion-warning { \n",
       "font-weight: bold;\n",
       "color: rgb(200, 130, 0);\n",
       "}\n",
       ".suggestion-error { \n",
       "font-weight: bold;\n",
       "color: red;\n",
       "}\n",
       ".suggestion-name {\n",
       "font-weight: bold;\n",
       "}\n",
       "</style><div class=\"suggestion-name\" style=\"clear:both;\">Redundant lambda</div><div class=\"suggestion-row\" style=\"float: left;\"><div class=\"suggestion-warning\">Found:</div><div class=\"highlight-code\" id=\"haskell\">f' x = \\ y -> x + y</div></div><div class=\"suggestion-row\" style=\"float: left;\"><div class=\"suggestion-warning\">Why Not:</div><div class=\"highlight-code\" id=\"haskell\">f' x y = x + y</div></div><div class=\"suggestion-name\" style=\"clear:both;\">Avoid lambda</div><div class=\"suggestion-row\" style=\"float: left;\"><div class=\"suggestion-warning\">Found:</div><div class=\"highlight-code\" id=\"haskell\">\\ y -> x + y</div></div><div class=\"suggestion-row\" style=\"float: left;\"><div class=\"suggestion-warning\">Why Not:</div><div class=\"highlight-code\" id=\"haskell\">(x +)</div></div>"
      ],
      "text/plain": [
       "Line 2: Redundant lambda\n",
       "Found:\n",
       "f' x = \\ y -> x + y\n",
       "Why not:\n",
       "f' x y = x + yLine 2: Avoid lambda\n",
       "Found:\n",
       "\\ y -> x + y\n",
       "Why not:\n",
       "(x +)"
      ]
     },
     "metadata": {},
     "output_type": "display_data"
    },
    {
     "data": {
      "text/plain": [
       "True"
      ]
     },
     "metadata": {},
     "output_type": "display_data"
    }
   ],
   "source": [
    "f x y = x+y\n",
    "f' x = \\y -> x+y\n",
    "\n",
    "--f a b .=. (f' a) b = (\\y -> a + y) b = a + b\n",
    "\n",
    "f 3 4 == f' 3 4"
   ]
  },
  {
   "cell_type": "markdown",
   "metadata": {},
   "source": [
    "Consequently it is possible in haskell to apply any function of $n$ parameters to less than $n$ arguments\n"
   ]
  },
  {
   "cell_type": "code",
   "execution_count": 9,
   "metadata": {},
   "outputs": [
    {
     "data": {
      "text/plain": [
       "24"
      ]
     },
     "metadata": {},
     "output_type": "display_data"
    },
    {
     "data": {
      "text/plain": [
       "[3,4,5]"
      ]
     },
     "metadata": {},
     "output_type": "display_data"
    }
   ],
   "source": [
    "-- E.g:\n",
    "f a b = 7*a + 5*b\n",
    "g = f 2\n",
    "g 2\n",
    "\n",
    "map (+2) [1..3]"
   ]
  },
  {
   "cell_type": "markdown",
   "metadata": {},
   "source": [
    "\n",
    "## Currying\n",
    "\n",
    "Defined in the standard library:"
   ]
  },
  {
   "cell_type": "code",
   "execution_count": null,
   "metadata": {},
   "outputs": [],
   "source": [
    "curry :: ((a,b) -> c) -> (a -> b -> c)\n",
    "curry f = \\ x y -> f(x,y)\n",
    "uncurry :: (a -> b -> c) -> ((a,b) -> c)\n",
    "uncurry f = \\(x,y) -> f x y"
   ]
  },
  {
   "cell_type": "markdown",
   "metadata": {},
   "source": [
    "Tuple form \"(x,y)\" allows multiple valies to be saved in one variable\n",
    "\n",
    "Uncurried form \"x y\" allows partial application\n",
    "\n",
    "\n",
    "## Exercise 8.3\n",
    "\n",
    "`Data.Function`: https://hackage.haskell.org/package/base-4.12.0.0/docs/Data-Function.html"
   ]
  }
 ],
 "metadata": {
  "kernelspec": {
   "display_name": "Haskell",
   "language": "haskell",
   "name": "haskell"
  },
  "language_info": {
   "codemirror_mode": "ihaskell",
   "file_extension": ".hs",
   "name": "haskell",
   "pygments_lexer": "Haskell",
   "version": "8.6.5"
  }
 },
 "nbformat": 4,
 "nbformat_minor": 4
}
